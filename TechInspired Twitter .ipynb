{
 "cells": [
  {
   "cell_type": "markdown",
   "id": "d6739ee1",
   "metadata": {},
   "source": [
    "### INSTALLING THE PYTHON MODULE FOR TWITTER SCRAPING(SNSCRAPE)"
   ]
  },
  {
   "cell_type": "code",
   "execution_count": 1,
   "id": "3264b1f9",
   "metadata": {},
   "outputs": [
    {
     "name": "stdout",
     "output_type": "stream",
     "text": [
      "Requirement already satisfied: snscrape in c:\\users\\dell\\anaconda3\\lib\\site-packages (0.4.3.20220106)\n",
      "Requirement already satisfied: lxml in c:\\users\\dell\\anaconda3\\lib\\site-packages (from snscrape) (4.6.3)\n",
      "Requirement already satisfied: beautifulsoup4 in c:\\users\\dell\\anaconda3\\lib\\site-packages (from snscrape) (4.10.0)\n",
      "Requirement already satisfied: requests[socks] in c:\\users\\dell\\anaconda3\\lib\\site-packages (from snscrape) (2.26.0)\n",
      "Requirement already satisfied: filelock in c:\\users\\dell\\anaconda3\\lib\\site-packages (from snscrape) (3.3.1)\n",
      "Requirement already satisfied: soupsieve>1.2 in c:\\users\\dell\\anaconda3\\lib\\site-packages (from beautifulsoup4->snscrape) (2.2.1)\n",
      "Requirement already satisfied: urllib3<1.27,>=1.21.1 in c:\\users\\dell\\anaconda3\\lib\\site-packages (from requests[socks]->snscrape) (1.26.7)\n",
      "Requirement already satisfied: charset-normalizer~=2.0.0 in c:\\users\\dell\\anaconda3\\lib\\site-packages (from requests[socks]->snscrape) (2.0.4)\n",
      "Requirement already satisfied: idna<4,>=2.5 in c:\\users\\dell\\anaconda3\\lib\\site-packages (from requests[socks]->snscrape) (3.2)\n",
      "Requirement already satisfied: certifi>=2017.4.17 in c:\\users\\dell\\anaconda3\\lib\\site-packages (from requests[socks]->snscrape) (2021.10.8)\n",
      "Requirement already satisfied: PySocks!=1.5.7,>=1.5.6 in c:\\users\\dell\\anaconda3\\lib\\site-packages (from requests[socks]->snscrape) (1.7.1)\n"
     ]
    }
   ],
   "source": [
    "!pip install snscrape"
   ]
  },
  {
   "cell_type": "markdown",
   "id": "578a5426",
   "metadata": {},
   "source": [
    "### IMPORTING THE NECESSARY LIBRARIES TO CARRYOUT THIS TASK"
   ]
  },
  {
   "cell_type": "code",
   "execution_count": 2,
   "id": "52f8345d",
   "metadata": {},
   "outputs": [],
   "source": [
    "import pandas as pd\n",
    "import snscrape.modules.twitter as sntwitter"
   ]
  },
  {
   "cell_type": "markdown",
   "id": "b3fb3288",
   "metadata": {},
   "source": [
    "#### COLLECTION OF THE TWEET HASHTAG OR USERNAME,DATE PERIOD,NUMBER OF DATA,DESIRED COLUMNS AND SAVING THE SCRAPED DATA AS A .CSV_FILE"
   ]
  },
  {
   "cell_type": "code",
   "execution_count": 10,
   "id": "59873be7",
   "metadata": {},
   "outputs": [],
   "source": [
    "query = \"(#TxESummitEnugu OR #TxESummit2022 OR #TechInspired OR #enugutechsummit OR TxESummit) until:2022-09-30 since:2022-08-11\"\n",
    "tweets = []\n",
    "limit = 30000\n",
    "\n",
    "\n",
    "for tweet in sntwitter.TwitterHashtagScraper(query).get_items():\n",
    "    \n",
    "    if len(tweets) == limit:\n",
    "        break\n",
    "    else:\n",
    "        tweets.append([tweet.date, tweet.url, tweet.user.username, tweet.sourceLabel, tweet.user.location, tweet.content, tweet.likeCount, tweet.retweetCount,  tweet.quoteCount, tweet.replyCount])\n",
    "        \n",
    "df = pd.DataFrame(tweets, columns=['Date', 'TweetURL','User', 'Source', 'Location', 'Tweet', 'Likes_Count','Retweet_Count', 'Quote_Count', 'Reply_Count'])\n",
    "\n",
    "df.to_csv('TxESummitEnu.csv')"
   ]
  },
  {
   "cell_type": "markdown",
   "id": "ef4211ca",
   "metadata": {},
   "source": [
    "# OBSERVE THE TWEET SCRAPED RESULT WITH PANDAS DATA_FRAME"
   ]
  },
  {
   "cell_type": "code",
   "execution_count": 11,
   "id": "94822c9a",
   "metadata": {},
   "outputs": [
    {
     "data": {
      "text/html": [
       "<div>\n",
       "<style scoped>\n",
       "    .dataframe tbody tr th:only-of-type {\n",
       "        vertical-align: middle;\n",
       "    }\n",
       "\n",
       "    .dataframe tbody tr th {\n",
       "        vertical-align: top;\n",
       "    }\n",
       "\n",
       "    .dataframe thead th {\n",
       "        text-align: right;\n",
       "    }\n",
       "</style>\n",
       "<table border=\"1\" class=\"dataframe\">\n",
       "  <thead>\n",
       "    <tr style=\"text-align: right;\">\n",
       "      <th></th>\n",
       "      <th>Date</th>\n",
       "      <th>TweetURL</th>\n",
       "      <th>User</th>\n",
       "      <th>Source</th>\n",
       "      <th>Location</th>\n",
       "      <th>Tweet</th>\n",
       "      <th>Likes_Count</th>\n",
       "      <th>Retweet_Count</th>\n",
       "      <th>Quote_Count</th>\n",
       "      <th>Reply_Count</th>\n",
       "    </tr>\n",
       "  </thead>\n",
       "  <tbody>\n",
       "    <tr>\n",
       "      <th>0</th>\n",
       "      <td>2022-09-29 22:02:17+00:00</td>\n",
       "      <td>https://twitter.com/is_ugee/status/15756069176...</td>\n",
       "      <td>is_ugee</td>\n",
       "      <td>Twitter for Android</td>\n",
       "      <td>Abakaliki, Nigeria</td>\n",
       "      <td>Thank you so much @enugutechsummit and @willia...</td>\n",
       "      <td>17</td>\n",
       "      <td>5</td>\n",
       "      <td>0</td>\n",
       "      <td>11</td>\n",
       "    </tr>\n",
       "    <tr>\n",
       "      <th>1</th>\n",
       "      <td>2022-09-29 21:34:39+00:00</td>\n",
       "      <td>https://twitter.com/enugutechsummit/status/157...</td>\n",
       "      <td>enugutechsummit</td>\n",
       "      <td>Twitter for Android</td>\n",
       "      <td>Enugu, Nigeria</td>\n",
       "      <td>\"CONGRATULATIONS\" 🍾 🎉 you just won a brand new...</td>\n",
       "      <td>71</td>\n",
       "      <td>9</td>\n",
       "      <td>2</td>\n",
       "      <td>24</td>\n",
       "    </tr>\n",
       "    <tr>\n",
       "      <th>2</th>\n",
       "      <td>2022-09-29 21:26:18+00:00</td>\n",
       "      <td>https://twitter.com/phavor_n/status/1575597862...</td>\n",
       "      <td>phavor_n</td>\n",
       "      <td>Twitter for Android</td>\n",
       "      <td></td>\n",
       "      <td>#TxESummit #enugutechsummit2022 https://t.co/N...</td>\n",
       "      <td>0</td>\n",
       "      <td>0</td>\n",
       "      <td>0</td>\n",
       "      <td>0</td>\n",
       "    </tr>\n",
       "    <tr>\n",
       "      <th>3</th>\n",
       "      <td>2022-09-29 20:48:17+00:00</td>\n",
       "      <td>https://twitter.com/nwafili_/status/1575588298...</td>\n",
       "      <td>nwafili_</td>\n",
       "      <td>Twitter for Android</td>\n",
       "      <td>Nigeria</td>\n",
       "      <td>TxE summit @enugutechsummit was a huge success...</td>\n",
       "      <td>8</td>\n",
       "      <td>1</td>\n",
       "      <td>0</td>\n",
       "      <td>3</td>\n",
       "    </tr>\n",
       "    <tr>\n",
       "      <th>4</th>\n",
       "      <td>2022-09-29 20:18:43+00:00</td>\n",
       "      <td>https://twitter.com/Gwbillionz/status/15755808...</td>\n",
       "      <td>Gwbillionz</td>\n",
       "      <td>Twitter for Android</td>\n",
       "      <td>Nigeria</td>\n",
       "      <td>This event brought out my inner most best what...</td>\n",
       "      <td>2</td>\n",
       "      <td>0</td>\n",
       "      <td>0</td>\n",
       "      <td>1</td>\n",
       "    </tr>\n",
       "  </tbody>\n",
       "</table>\n",
       "</div>"
      ],
      "text/plain": [
       "                       Date  \\\n",
       "0 2022-09-29 22:02:17+00:00   \n",
       "1 2022-09-29 21:34:39+00:00   \n",
       "2 2022-09-29 21:26:18+00:00   \n",
       "3 2022-09-29 20:48:17+00:00   \n",
       "4 2022-09-29 20:18:43+00:00   \n",
       "\n",
       "                                            TweetURL             User  \\\n",
       "0  https://twitter.com/is_ugee/status/15756069176...          is_ugee   \n",
       "1  https://twitter.com/enugutechsummit/status/157...  enugutechsummit   \n",
       "2  https://twitter.com/phavor_n/status/1575597862...         phavor_n   \n",
       "3  https://twitter.com/nwafili_/status/1575588298...         nwafili_   \n",
       "4  https://twitter.com/Gwbillionz/status/15755808...       Gwbillionz   \n",
       "\n",
       "                Source            Location  \\\n",
       "0  Twitter for Android  Abakaliki, Nigeria   \n",
       "1  Twitter for Android      Enugu, Nigeria   \n",
       "2  Twitter for Android                       \n",
       "3  Twitter for Android             Nigeria   \n",
       "4  Twitter for Android             Nigeria   \n",
       "\n",
       "                                               Tweet  Likes_Count  \\\n",
       "0  Thank you so much @enugutechsummit and @willia...           17   \n",
       "1  \"CONGRATULATIONS\" 🍾 🎉 you just won a brand new...           71   \n",
       "2  #TxESummit #enugutechsummit2022 https://t.co/N...            0   \n",
       "3  TxE summit @enugutechsummit was a huge success...            8   \n",
       "4  This event brought out my inner most best what...            2   \n",
       "\n",
       "   Retweet_Count  Quote_Count  Reply_Count  \n",
       "0              5            0           11  \n",
       "1              9            2           24  \n",
       "2              0            0            0  \n",
       "3              1            0            3  \n",
       "4              0            0            1  "
      ]
     },
     "execution_count": 11,
     "metadata": {},
     "output_type": "execute_result"
    }
   ],
   "source": [
    "df.head()"
   ]
  },
  {
   "cell_type": "markdown",
   "id": "c8168214",
   "metadata": {},
   "source": [
    "### TWEET DESCRIPTION USING PANDAS DATA_FRAME"
   ]
  },
  {
   "cell_type": "code",
   "execution_count": 12,
   "id": "72836cad",
   "metadata": {},
   "outputs": [
    {
     "data": {
      "text/html": [
       "<div>\n",
       "<style scoped>\n",
       "    .dataframe tbody tr th:only-of-type {\n",
       "        vertical-align: middle;\n",
       "    }\n",
       "\n",
       "    .dataframe tbody tr th {\n",
       "        vertical-align: top;\n",
       "    }\n",
       "\n",
       "    .dataframe thead th {\n",
       "        text-align: right;\n",
       "    }\n",
       "</style>\n",
       "<table border=\"1\" class=\"dataframe\">\n",
       "  <thead>\n",
       "    <tr style=\"text-align: right;\">\n",
       "      <th></th>\n",
       "      <th>Likes_Count</th>\n",
       "      <th>Retweet_Count</th>\n",
       "      <th>Quote_Count</th>\n",
       "      <th>Reply_Count</th>\n",
       "    </tr>\n",
       "  </thead>\n",
       "  <tbody>\n",
       "    <tr>\n",
       "      <th>count</th>\n",
       "      <td>1149.000000</td>\n",
       "      <td>1149.000000</td>\n",
       "      <td>1149.000000</td>\n",
       "      <td>1149.000000</td>\n",
       "    </tr>\n",
       "    <tr>\n",
       "      <th>mean</th>\n",
       "      <td>6.625762</td>\n",
       "      <td>1.560487</td>\n",
       "      <td>0.125326</td>\n",
       "      <td>0.952132</td>\n",
       "    </tr>\n",
       "    <tr>\n",
       "      <th>std</th>\n",
       "      <td>28.366858</td>\n",
       "      <td>12.128344</td>\n",
       "      <td>0.787508</td>\n",
       "      <td>5.974566</td>\n",
       "    </tr>\n",
       "    <tr>\n",
       "      <th>min</th>\n",
       "      <td>0.000000</td>\n",
       "      <td>0.000000</td>\n",
       "      <td>0.000000</td>\n",
       "      <td>0.000000</td>\n",
       "    </tr>\n",
       "    <tr>\n",
       "      <th>25%</th>\n",
       "      <td>0.000000</td>\n",
       "      <td>0.000000</td>\n",
       "      <td>0.000000</td>\n",
       "      <td>0.000000</td>\n",
       "    </tr>\n",
       "    <tr>\n",
       "      <th>50%</th>\n",
       "      <td>1.000000</td>\n",
       "      <td>0.000000</td>\n",
       "      <td>0.000000</td>\n",
       "      <td>0.000000</td>\n",
       "    </tr>\n",
       "    <tr>\n",
       "      <th>75%</th>\n",
       "      <td>3.000000</td>\n",
       "      <td>0.000000</td>\n",
       "      <td>0.000000</td>\n",
       "      <td>0.000000</td>\n",
       "    </tr>\n",
       "    <tr>\n",
       "      <th>max</th>\n",
       "      <td>449.000000</td>\n",
       "      <td>269.000000</td>\n",
       "      <td>18.000000</td>\n",
       "      <td>100.000000</td>\n",
       "    </tr>\n",
       "  </tbody>\n",
       "</table>\n",
       "</div>"
      ],
      "text/plain": [
       "       Likes_Count  Retweet_Count  Quote_Count  Reply_Count\n",
       "count  1149.000000    1149.000000  1149.000000  1149.000000\n",
       "mean      6.625762       1.560487     0.125326     0.952132\n",
       "std      28.366858      12.128344     0.787508     5.974566\n",
       "min       0.000000       0.000000     0.000000     0.000000\n",
       "25%       0.000000       0.000000     0.000000     0.000000\n",
       "50%       1.000000       0.000000     0.000000     0.000000\n",
       "75%       3.000000       0.000000     0.000000     0.000000\n",
       "max     449.000000     269.000000    18.000000   100.000000"
      ]
     },
     "execution_count": 12,
     "metadata": {},
     "output_type": "execute_result"
    }
   ],
   "source": [
    "df.describe()"
   ]
  },
  {
   "cell_type": "code",
   "execution_count": 9,
   "id": "a131e871",
   "metadata": {},
   "outputs": [],
   "source": [
    "from matplotlib import pyplot as plt\n",
    "import seaborn as Sbs"
   ]
  },
  {
   "cell_type": "code",
   "execution_count": null,
   "id": "2d2608f4",
   "metadata": {},
   "outputs": [],
   "source": []
  }
 ],
 "metadata": {
  "kernelspec": {
   "display_name": "Python 3 (ipykernel)",
   "language": "python",
   "name": "python3"
  },
  "language_info": {
   "codemirror_mode": {
    "name": "ipython",
    "version": 3
   },
   "file_extension": ".py",
   "mimetype": "text/x-python",
   "name": "python",
   "nbconvert_exporter": "python",
   "pygments_lexer": "ipython3",
   "version": "3.9.7"
  }
 },
 "nbformat": 4,
 "nbformat_minor": 5
}
